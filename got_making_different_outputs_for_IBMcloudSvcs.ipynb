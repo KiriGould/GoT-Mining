{
 "cells": [
  {
   "cell_type": "code",
   "execution_count": 35,
   "metadata": {},
   "outputs": [],
   "source": [
    "import pandas as pd\n",
    "script = pd.read_csv('Game_of_Thrones_Script_count_senti.csv')"
   ]
  },
  {
   "cell_type": "code",
   "execution_count": 36,
   "metadata": {},
   "outputs": [],
   "source": [
    "json_script = script.copy()"
   ]
  },
  {
   "cell_type": "code",
   "execution_count": 39,
   "metadata": {},
   "outputs": [],
   "source": [
    "json_script.drop(['Tokenize Words', 'Tokenize Words Alphanumeric Only',\n",
    "       'Sentence Word Count', 'Row', 'Family Name', 'Sentiment Scores',\n",
    "       'Polarity', 'Subjectivity'], axis=1, inplace=True)"
   ]
  },
  {
   "cell_type": "code",
   "execution_count": 40,
   "metadata": {},
   "outputs": [],
   "source": [
    "json_script.to_json(\"GoTscriptforWD.json\")"
   ]
  },
  {
   "cell_type": "code",
   "execution_count": 25,
   "metadata": {},
   "outputs": [],
   "source": [
    "top_20 = script.groupby(['Name', 'Family Name'])[['Sentence Word Count']].sum().reset_index().sort_values(by=['Sentence Word Count']\n",
    "                                                                                         , ascending=[0])"
   ]
  },
  {
   "cell_type": "code",
   "execution_count": 26,
   "metadata": {},
   "outputs": [],
   "source": [
    "script = script[script[\"Name\"].isin(top_20[\"Name\"][:20])]"
   ]
  },
  {
   "cell_type": "code",
   "execution_count": 27,
   "metadata": {},
   "outputs": [
    {
     "name": "stdout",
     "output_type": "stream",
     "text": [
      "<class 'pandas.core.frame.DataFrame'>\n",
      "Int64Index: 12244 entries, 15 to 23908\n",
      "Data columns (total 14 columns):\n",
      " #   Column                            Non-Null Count  Dtype  \n",
      "---  ------                            --------------  -----  \n",
      " 0   Release Date                      12244 non-null  object \n",
      " 1   Season                            12244 non-null  object \n",
      " 2   Episode                           12244 non-null  object \n",
      " 3   Episode Title                     12244 non-null  object \n",
      " 4   Name                              12244 non-null  object \n",
      " 5   Sentence                          12244 non-null  object \n",
      " 6   Tokenize Words                    12244 non-null  object \n",
      " 7   Tokenize Words Alphanumeric Only  12244 non-null  object \n",
      " 8   Sentence Word Count               12244 non-null  int64  \n",
      " 9   Row                               12244 non-null  int64  \n",
      " 10  Family Name                       12244 non-null  object \n",
      " 11  Sentiment Scores                  12244 non-null  object \n",
      " 12  Polarity                          12244 non-null  float64\n",
      " 13  Subjectivity                      12244 non-null  float64\n",
      "dtypes: float64(2), int64(2), object(10)\n",
      "memory usage: 1.4+ MB\n"
     ]
    }
   ],
   "source": [
    "script.info()"
   ]
  },
  {
   "cell_type": "code",
   "execution_count": 28,
   "metadata": {},
   "outputs": [
    {
     "data": {
      "text/plain": [
       "Index(['Release Date', 'Season', 'Episode', 'Episode Title', 'Name',\n",
       "       'Sentence', 'Tokenize Words', 'Tokenize Words Alphanumeric Only',\n",
       "       'Sentence Word Count', 'Row', 'Family Name', 'Sentiment Scores',\n",
       "       'Polarity', 'Subjectivity'],\n",
       "      dtype='object')"
      ]
     },
     "execution_count": 28,
     "metadata": {},
     "output_type": "execute_result"
    }
   ],
   "source": [
    "script.columns"
   ]
  },
  {
   "cell_type": "code",
   "execution_count": 29,
   "metadata": {},
   "outputs": [],
   "source": [
    "script.drop(['Release Date', 'Season', 'Episode Title', 'Tokenize Words', 'Tokenize Words Alphanumeric Only',\n",
    "       'Sentence Word Count', 'Row', 'Family Name', 'Sentiment Scores',\n",
    "       'Polarity', 'Subjectivity'], axis=1, inplace=True)"
   ]
  },
  {
   "cell_type": "code",
   "execution_count": 30,
   "metadata": {},
   "outputs": [
    {
     "data": {
      "text/html": [
       "<div>\n",
       "<style scoped>\n",
       "    .dataframe tbody tr th:only-of-type {\n",
       "        vertical-align: middle;\n",
       "    }\n",
       "\n",
       "    .dataframe tbody tr th {\n",
       "        vertical-align: top;\n",
       "    }\n",
       "\n",
       "    .dataframe thead th {\n",
       "        text-align: right;\n",
       "    }\n",
       "</style>\n",
       "<table border=\"1\" class=\"dataframe\">\n",
       "  <thead>\n",
       "    <tr style=\"text-align: right;\">\n",
       "      <th></th>\n",
       "      <th>Episode</th>\n",
       "      <th>Name</th>\n",
       "      <th>Sentence</th>\n",
       "    </tr>\n",
       "  </thead>\n",
       "  <tbody>\n",
       "    <tr>\n",
       "      <th>15</th>\n",
       "      <td>Episode 1</td>\n",
       "      <td>jon snow</td>\n",
       "      <td>Go on. Father's watching.</td>\n",
       "    </tr>\n",
       "    <tr>\n",
       "      <th>16</th>\n",
       "      <td>Episode 1</td>\n",
       "      <td>jon snow</td>\n",
       "      <td>And your mother.</td>\n",
       "    </tr>\n",
       "    <tr>\n",
       "      <th>18</th>\n",
       "      <td>Episode 1</td>\n",
       "      <td>sansa stark</td>\n",
       "      <td>Thank you.</td>\n",
       "    </tr>\n",
       "    <tr>\n",
       "      <th>21</th>\n",
       "      <td>Episode 1</td>\n",
       "      <td>jon snow</td>\n",
       "      <td>Don't think too much, Bran.</td>\n",
       "    </tr>\n",
       "    <tr>\n",
       "      <th>22</th>\n",
       "      <td>Episode 1</td>\n",
       "      <td>robb stark</td>\n",
       "      <td>Relax your bow arm.</td>\n",
       "    </tr>\n",
       "  </tbody>\n",
       "</table>\n",
       "</div>"
      ],
      "text/plain": [
       "      Episode         Name                     Sentence\n",
       "15  Episode 1     jon snow    Go on. Father's watching.\n",
       "16  Episode 1     jon snow             And your mother.\n",
       "18  Episode 1  sansa stark                   Thank you.\n",
       "21  Episode 1     jon snow  Don't think too much, Bran.\n",
       "22  Episode 1   robb stark          Relax your bow arm."
      ]
     },
     "execution_count": 30,
     "metadata": {},
     "output_type": "execute_result"
    }
   ],
   "source": [
    "script.head()"
   ]
  },
  {
   "cell_type": "code",
   "execution_count": 31,
   "metadata": {},
   "outputs": [],
   "source": [
    "script.to_csv('GoT-autoAI.csv', encoding='utf-8', index=False)"
   ]
  },
  {
   "cell_type": "code",
   "execution_count": 32,
   "metadata": {},
   "outputs": [],
   "source": [
    "script = pd.read_csv('GoT-autoAI.csv')"
   ]
  },
  {
   "cell_type": "code",
   "execution_count": 33,
   "metadata": {},
   "outputs": [
    {
     "data": {
      "text/html": [
       "<div>\n",
       "<style scoped>\n",
       "    .dataframe tbody tr th:only-of-type {\n",
       "        vertical-align: middle;\n",
       "    }\n",
       "\n",
       "    .dataframe tbody tr th {\n",
       "        vertical-align: top;\n",
       "    }\n",
       "\n",
       "    .dataframe thead th {\n",
       "        text-align: right;\n",
       "    }\n",
       "</style>\n",
       "<table border=\"1\" class=\"dataframe\">\n",
       "  <thead>\n",
       "    <tr style=\"text-align: right;\">\n",
       "      <th></th>\n",
       "      <th>Episode</th>\n",
       "      <th>Name</th>\n",
       "      <th>Sentence</th>\n",
       "    </tr>\n",
       "  </thead>\n",
       "  <tbody>\n",
       "    <tr>\n",
       "      <th>0</th>\n",
       "      <td>Episode 1</td>\n",
       "      <td>jon snow</td>\n",
       "      <td>Go on. Father's watching.</td>\n",
       "    </tr>\n",
       "    <tr>\n",
       "      <th>1</th>\n",
       "      <td>Episode 1</td>\n",
       "      <td>jon snow</td>\n",
       "      <td>And your mother.</td>\n",
       "    </tr>\n",
       "    <tr>\n",
       "      <th>2</th>\n",
       "      <td>Episode 1</td>\n",
       "      <td>sansa stark</td>\n",
       "      <td>Thank you.</td>\n",
       "    </tr>\n",
       "    <tr>\n",
       "      <th>3</th>\n",
       "      <td>Episode 1</td>\n",
       "      <td>jon snow</td>\n",
       "      <td>Don't think too much, Bran.</td>\n",
       "    </tr>\n",
       "    <tr>\n",
       "      <th>4</th>\n",
       "      <td>Episode 1</td>\n",
       "      <td>robb stark</td>\n",
       "      <td>Relax your bow arm.</td>\n",
       "    </tr>\n",
       "  </tbody>\n",
       "</table>\n",
       "</div>"
      ],
      "text/plain": [
       "     Episode         Name                     Sentence\n",
       "0  Episode 1     jon snow    Go on. Father's watching.\n",
       "1  Episode 1     jon snow             And your mother.\n",
       "2  Episode 1  sansa stark                   Thank you.\n",
       "3  Episode 1     jon snow  Don't think too much, Bran.\n",
       "4  Episode 1   robb stark          Relax your bow arm."
      ]
     },
     "execution_count": 33,
     "metadata": {},
     "output_type": "execute_result"
    }
   ],
   "source": [
    "script.head()"
   ]
  },
  {
   "cell_type": "code",
   "execution_count": null,
   "metadata": {},
   "outputs": [],
   "source": []
  }
 ],
 "metadata": {
  "kernelspec": {
   "display_name": "Python 3",
   "language": "python",
   "name": "python3"
  },
  "language_info": {
   "codemirror_mode": {
    "name": "ipython",
    "version": 3
   },
   "file_extension": ".py",
   "mimetype": "text/x-python",
   "name": "python",
   "nbconvert_exporter": "python",
   "pygments_lexer": "ipython3",
   "version": "3.6.9"
  }
 },
 "nbformat": 4,
 "nbformat_minor": 4
}
