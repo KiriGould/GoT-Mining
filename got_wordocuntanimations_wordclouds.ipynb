{
 "cells": [
  {
   "cell_type": "code",
   "execution_count": 94,
   "metadata": {},
   "outputs": [
    {
     "name": "stdout",
     "output_type": "stream",
     "text": [
      "Requirement already satisfied: matplotlib in /usr/local/lib/python3.11/site-packages (3.7.1)\n",
      "Requirement already satisfied: contourpy>=1.0.1 in /usr/local/lib/python3.11/site-packages (from matplotlib) (1.0.7)\n",
      "Requirement already satisfied: cycler>=0.10 in /usr/local/lib/python3.11/site-packages (from matplotlib) (0.11.0)\n",
      "Requirement already satisfied: fonttools>=4.22.0 in /usr/local/lib/python3.11/site-packages (from matplotlib) (4.39.3)\n",
      "Requirement already satisfied: kiwisolver>=1.0.1 in /usr/local/lib/python3.11/site-packages (from matplotlib) (1.4.4)\n",
      "Requirement already satisfied: numpy>=1.20 in /usr/local/lib/python3.11/site-packages (from matplotlib) (1.24.3)\n",
      "Requirement already satisfied: packaging>=20.0 in /usr/local/lib/python3.11/site-packages (from matplotlib) (23.1)\n",
      "Requirement already satisfied: pillow>=6.2.0 in /usr/local/lib/python3.11/site-packages (from matplotlib) (9.5.0)\n",
      "Requirement already satisfied: pyparsing>=2.3.1 in /usr/local/lib/python3.11/site-packages (from matplotlib) (3.0.9)\n",
      "Requirement already satisfied: python-dateutil>=2.7 in /usr/local/lib/python3.11/site-packages (from matplotlib) (2.8.2)\n",
      "Requirement already satisfied: six>=1.5 in /usr/local/lib/python3.11/site-packages (from python-dateutil>=2.7->matplotlib) (1.16.0)\n"
     ]
    }
   ],
   "source": [
    "!pip install matplotlib"
   ]
  },
  {
   "cell_type": "code",
   "execution_count": 95,
   "metadata": {},
   "outputs": [
    {
     "name": "stdout",
     "output_type": "stream",
     "text": [
      "Requirement already satisfied: pandas==1.5 in /usr/local/lib/python3.11/site-packages (1.5.0)\n",
      "Requirement already satisfied: python-dateutil>=2.8.1 in /usr/local/lib/python3.11/site-packages (from pandas==1.5) (2.8.2)\n",
      "Requirement already satisfied: pytz>=2020.1 in /usr/local/lib/python3.11/site-packages (from pandas==1.5) (2023.3)\n",
      "Requirement already satisfied: numpy>=1.21.0 in /usr/local/lib/python3.11/site-packages (from pandas==1.5) (1.24.3)\n",
      "Requirement already satisfied: six>=1.5 in /usr/local/lib/python3.11/site-packages (from python-dateutil>=2.8.1->pandas==1.5) (1.16.0)\n"
     ]
    }
   ],
   "source": [
    "!pip install pandas==1.5"
   ]
  },
  {
   "cell_type": "code",
   "execution_count": 96,
   "metadata": {},
   "outputs": [
    {
     "name": "stdout",
     "output_type": "stream",
     "text": [
      "Requirement already satisfied: scikit-learn in /usr/local/lib/python3.11/site-packages (1.2.2)\n",
      "Requirement already satisfied: numpy>=1.17.3 in /usr/local/lib/python3.11/site-packages (from scikit-learn) (1.24.3)\n",
      "Requirement already satisfied: scipy>=1.3.2 in /usr/local/lib/python3.11/site-packages (from scikit-learn) (1.10.1)\n",
      "Requirement already satisfied: joblib>=1.1.1 in /usr/local/lib/python3.11/site-packages (from scikit-learn) (1.2.0)\n",
      "Requirement already satisfied: threadpoolctl>=2.0.0 in /usr/local/lib/python3.11/site-packages (from scikit-learn) (3.1.0)\n"
     ]
    }
   ],
   "source": [
    "!pip install scikit-learn"
   ]
  },
  {
   "cell_type": "code",
   "execution_count": 97,
   "metadata": {},
   "outputs": [],
   "source": [
    "import pandas as pd\n",
    "\n",
    "import matplotlib.pyplot as plt\n",
    "\n",
    "import numpy as np\n",
    "\n",
    "import nltk\n",
    "from nltk import word_tokenize"
   ]
  },
  {
   "cell_type": "code",
   "execution_count": 98,
   "metadata": {},
   "outputs": [
    {
     "data": {
      "text/html": [
       "<div>\n",
       "<style scoped>\n",
       "    .dataframe tbody tr th:only-of-type {\n",
       "        vertical-align: middle;\n",
       "    }\n",
       "\n",
       "    .dataframe tbody tr th {\n",
       "        vertical-align: top;\n",
       "    }\n",
       "\n",
       "    .dataframe thead th {\n",
       "        text-align: right;\n",
       "    }\n",
       "</style>\n",
       "<table border=\"1\" class=\"dataframe\">\n",
       "  <thead>\n",
       "    <tr style=\"text-align: right;\">\n",
       "      <th></th>\n",
       "      <th>Release Date</th>\n",
       "      <th>Season</th>\n",
       "      <th>Episode</th>\n",
       "      <th>Episode Title</th>\n",
       "      <th>Name</th>\n",
       "      <th>Sentence</th>\n",
       "    </tr>\n",
       "  </thead>\n",
       "  <tbody>\n",
       "    <tr>\n",
       "      <th>0</th>\n",
       "      <td>2011-04-17</td>\n",
       "      <td>Season 1</td>\n",
       "      <td>Episode 1</td>\n",
       "      <td>Winter is Coming</td>\n",
       "      <td>waymar royce</td>\n",
       "      <td>What do you expect? They're savages. One lot s...</td>\n",
       "    </tr>\n",
       "    <tr>\n",
       "      <th>1</th>\n",
       "      <td>2011-04-17</td>\n",
       "      <td>Season 1</td>\n",
       "      <td>Episode 1</td>\n",
       "      <td>Winter is Coming</td>\n",
       "      <td>will</td>\n",
       "      <td>I've never seen wildlings do a thing like this...</td>\n",
       "    </tr>\n",
       "    <tr>\n",
       "      <th>2</th>\n",
       "      <td>2011-04-17</td>\n",
       "      <td>Season 1</td>\n",
       "      <td>Episode 1</td>\n",
       "      <td>Winter is Coming</td>\n",
       "      <td>waymar royce</td>\n",
       "      <td>How close did you get?</td>\n",
       "    </tr>\n",
       "    <tr>\n",
       "      <th>3</th>\n",
       "      <td>2011-04-17</td>\n",
       "      <td>Season 1</td>\n",
       "      <td>Episode 1</td>\n",
       "      <td>Winter is Coming</td>\n",
       "      <td>will</td>\n",
       "      <td>Close as any man would.</td>\n",
       "    </tr>\n",
       "    <tr>\n",
       "      <th>4</th>\n",
       "      <td>2011-04-17</td>\n",
       "      <td>Season 1</td>\n",
       "      <td>Episode 1</td>\n",
       "      <td>Winter is Coming</td>\n",
       "      <td>gared</td>\n",
       "      <td>We should head back to the wall.</td>\n",
       "    </tr>\n",
       "  </tbody>\n",
       "</table>\n",
       "</div>"
      ],
      "text/plain": [
       "  Release Date    Season    Episode     Episode Title          Name  \\\n",
       "0   2011-04-17  Season 1  Episode 1  Winter is Coming  waymar royce   \n",
       "1   2011-04-17  Season 1  Episode 1  Winter is Coming          will   \n",
       "2   2011-04-17  Season 1  Episode 1  Winter is Coming  waymar royce   \n",
       "3   2011-04-17  Season 1  Episode 1  Winter is Coming          will   \n",
       "4   2011-04-17  Season 1  Episode 1  Winter is Coming         gared   \n",
       "\n",
       "                                            Sentence  \n",
       "0  What do you expect? They're savages. One lot s...  \n",
       "1  I've never seen wildlings do a thing like this...  \n",
       "2                             How close did you get?  \n",
       "3                            Close as any man would.  \n",
       "4                   We should head back to the wall.  "
      ]
     },
     "execution_count": 98,
     "metadata": {},
     "output_type": "execute_result"
    }
   ],
   "source": [
    "script = pd.read_csv('Game_of_Thrones_Script.csv')\n",
    "script.head()"
   ]
  },
  {
   "cell_type": "code",
   "execution_count": 99,
   "metadata": {},
   "outputs": [
    {
     "data": {
      "text/html": [
       "<div>\n",
       "<style scoped>\n",
       "    .dataframe tbody tr th:only-of-type {\n",
       "        vertical-align: middle;\n",
       "    }\n",
       "\n",
       "    .dataframe tbody tr th {\n",
       "        vertical-align: top;\n",
       "    }\n",
       "\n",
       "    .dataframe thead th {\n",
       "        text-align: right;\n",
       "    }\n",
       "</style>\n",
       "<table border=\"1\" class=\"dataframe\">\n",
       "  <thead>\n",
       "    <tr style=\"text-align: right;\">\n",
       "      <th></th>\n",
       "      <th>Release Date</th>\n",
       "      <th>Season</th>\n",
       "      <th>Episode</th>\n",
       "      <th>Episode Title</th>\n",
       "      <th>Name</th>\n",
       "      <th>Sentence</th>\n",
       "    </tr>\n",
       "  </thead>\n",
       "  <tbody>\n",
       "    <tr>\n",
       "      <th>count</th>\n",
       "      <td>23911</td>\n",
       "      <td>23911</td>\n",
       "      <td>23911</td>\n",
       "      <td>23911</td>\n",
       "      <td>23908</td>\n",
       "      <td>23911</td>\n",
       "    </tr>\n",
       "    <tr>\n",
       "      <th>unique</th>\n",
       "      <td>73</td>\n",
       "      <td>8</td>\n",
       "      <td>10</td>\n",
       "      <td>73</td>\n",
       "      <td>564</td>\n",
       "      <td>22300</td>\n",
       "    </tr>\n",
       "    <tr>\n",
       "      <th>top</th>\n",
       "      <td>2017-08-13</td>\n",
       "      <td>Season 2</td>\n",
       "      <td>Episode 5</td>\n",
       "      <td>Eastwatch</td>\n",
       "      <td>tyrion lannister</td>\n",
       "      <td>No.</td>\n",
       "    </tr>\n",
       "    <tr>\n",
       "      <th>freq</th>\n",
       "      <td>505</td>\n",
       "      <td>3914</td>\n",
       "      <td>3083</td>\n",
       "      <td>505</td>\n",
       "      <td>1760</td>\n",
       "      <td>103</td>\n",
       "    </tr>\n",
       "  </tbody>\n",
       "</table>\n",
       "</div>"
      ],
      "text/plain": [
       "       Release Date    Season    Episode Episode Title              Name  \\\n",
       "count         23911     23911      23911         23911             23908   \n",
       "unique           73         8         10            73               564   \n",
       "top      2017-08-13  Season 2  Episode 5     Eastwatch  tyrion lannister   \n",
       "freq            505      3914       3083           505              1760   \n",
       "\n",
       "       Sentence  \n",
       "count     23911  \n",
       "unique    22300  \n",
       "top         No.  \n",
       "freq        103  "
      ]
     },
     "execution_count": 99,
     "metadata": {},
     "output_type": "execute_result"
    }
   ],
   "source": [
    "scriptdesc = script.describe()\n",
    "scriptdesc"
   ]
  },
  {
   "cell_type": "code",
   "execution_count": 100,
   "metadata": {},
   "outputs": [
    {
     "data": {
      "text/plain": [
       "<Axes: >"
      ]
     },
     "execution_count": 100,
     "metadata": {},
     "output_type": "execute_result"
    },
    {
     "data": {
      "image/png": "[encoded data removed]",
      "text/plain": [
       "<Figure size 640x480 with 1 Axes>"
      ]
     },
     "metadata": {},
     "output_type": "display_data"
    }
   ],
   "source": [
    "scriptdesc.iloc[1,:-1].plot(kind=\"bar\")"
   ]
  },
  {
   "cell_type": "code",
   "execution_count": 101,
   "metadata": {},
   "outputs": [
    {
     "data": {
      "text/plain": [
       "565"
      ]
     },
     "execution_count": 101,
     "metadata": {},
     "output_type": "execute_result"
    }
   ],
   "source": [
    "len(script[\"Name\"].unique())"
   ]
  },
  {
   "cell_type": "code",
   "execution_count": 102,
   "metadata": {},
   "outputs": [
    {
     "data": {
      "text/plain": [
       "\"I've never seen wildlings do a thing like this. I've never seen a thing like this, not ever in my life.\""
      ]
     },
     "execution_count": 102,
     "metadata": {},
     "output_type": "execute_result"
    }
   ],
   "source": [
    "script['Sentence'][1]"
   ]
  },
  {
   "cell_type": "code",
   "execution_count": 103,
   "metadata": {},
   "outputs": [
    {
     "data": {
      "text/plain": [
       "['We', 'should', 'head', 'back', 'to', 'the', 'wall', '.']"
      ]
     },
     "execution_count": 103,
     "metadata": {},
     "output_type": "execute_result"
    }
   ],
   "source": [
    "word_tokenize(script['Sentence'][4])"
   ]
  },
  {
   "cell_type": "code",
   "execution_count": 104,
   "metadata": {},
   "outputs": [
    {
     "data": {
      "text/plain": [
       "0        What do you expect? They're savages. One lot s...\n",
       "1        I've never seen wildlings do a thing like this...\n",
       "2                                   How close did you get?\n",
       "3                                  Close as any man would.\n",
       "4                         We should head back to the wall.\n",
       "                               ...                        \n",
       "23906    I think we can all agree that ships take prece...\n",
       "23907        I think that's a very presumptuous statement.\n",
       "23908    I once brought a jackass and a honeycomb into ...\n",
       "23909                              The Queen in the North!\n",
       "23910    The Queen in the North! The Queen in the North...\n",
       "Name: Sentence, Length: 23911, dtype: object"
      ]
     },
     "execution_count": 104,
     "metadata": {},
     "output_type": "execute_result"
    }
   ],
   "source": [
    "script['Sentence'].dropna()"
   ]
  },
  {
   "cell_type": "code",
   "execution_count": 105,
   "metadata": {},
   "outputs": [
    {
     "name": "stderr",
     "output_type": "stream",
     "text": [
      "[nltk_data] Downloading package punkt to /Users/mdargatz/nltk_data...\n",
      "[nltk_data]   Package punkt is already up-to-date!\n"
     ]
    }
   ],
   "source": [
    "nltk.download('punkt')\n",
    "\n",
    "script['Tokenize Words'] = script['Sentence'].dropna().apply(lambda x: word_tokenize(x))\n",
    "script['Tokenize Words Alphanumeric Only'] = script['Tokenize Words'].dropna().apply(lambda x: [item for item in x if item.isalnum()])\n"
   ]
  },
  {
   "cell_type": "code",
   "execution_count": 106,
   "metadata": {},
   "outputs": [
    {
     "data": {
      "text/plain": [
       "23911"
      ]
     },
     "execution_count": 106,
     "metadata": {},
     "output_type": "execute_result"
    }
   ],
   "source": [
    "len(script)"
   ]
  },
  {
   "cell_type": "code",
   "execution_count": 107,
   "metadata": {},
   "outputs": [
    {
     "data": {
      "text/html": [
       "<div>\n",
       "<style scoped>\n",
       "    .dataframe tbody tr th:only-of-type {\n",
       "        vertical-align: middle;\n",
       "    }\n",
       "\n",
       "    .dataframe tbody tr th {\n",
       "        vertical-align: top;\n",
       "    }\n",
       "\n",
       "    .dataframe thead th {\n",
       "        text-align: right;\n",
       "    }\n",
       "</style>\n",
       "<table border=\"1\" class=\"dataframe\">\n",
       "  <thead>\n",
       "    <tr style=\"text-align: right;\">\n",
       "      <th></th>\n",
       "      <th>Release Date</th>\n",
       "      <th>Season</th>\n",
       "      <th>Episode</th>\n",
       "      <th>Episode Title</th>\n",
       "      <th>Name</th>\n",
       "      <th>Sentence</th>\n",
       "      <th>Tokenize Words</th>\n",
       "      <th>Tokenize Words Alphanumeric Only</th>\n",
       "      <th>Sentence Word Count</th>\n",
       "    </tr>\n",
       "  </thead>\n",
       "  <tbody>\n",
       "    <tr>\n",
       "      <th>0</th>\n",
       "      <td>2011-04-17</td>\n",
       "      <td>Season 1</td>\n",
       "      <td>Episode 1</td>\n",
       "      <td>Winter is Coming</td>\n",
       "      <td>waymar royce</td>\n",
       "      <td>What do you expect? They're savages. One lot s...</td>\n",
       "      <td>[What, do, you, expect, ?, They, 're, savages,...</td>\n",
       "      <td>[What, do, you, expect, They, savages, One, lo...</td>\n",
       "      <td>25</td>\n",
       "    </tr>\n",
       "    <tr>\n",
       "      <th>1</th>\n",
       "      <td>2011-04-17</td>\n",
       "      <td>Season 1</td>\n",
       "      <td>Episode 1</td>\n",
       "      <td>Winter is Coming</td>\n",
       "      <td>will</td>\n",
       "      <td>I've never seen wildlings do a thing like this...</td>\n",
       "      <td>[I, 've, never, seen, wildlings, do, a, thing,...</td>\n",
       "      <td>[I, never, seen, wildlings, do, a, thing, like...</td>\n",
       "      <td>21</td>\n",
       "    </tr>\n",
       "    <tr>\n",
       "      <th>2</th>\n",
       "      <td>2011-04-17</td>\n",
       "      <td>Season 1</td>\n",
       "      <td>Episode 1</td>\n",
       "      <td>Winter is Coming</td>\n",
       "      <td>waymar royce</td>\n",
       "      <td>How close did you get?</td>\n",
       "      <td>[How, close, did, you, get, ?]</td>\n",
       "      <td>[How, close, did, you, get]</td>\n",
       "      <td>5</td>\n",
       "    </tr>\n",
       "    <tr>\n",
       "      <th>3</th>\n",
       "      <td>2011-04-17</td>\n",
       "      <td>Season 1</td>\n",
       "      <td>Episode 1</td>\n",
       "      <td>Winter is Coming</td>\n",
       "      <td>will</td>\n",
       "      <td>Close as any man would.</td>\n",
       "      <td>[Close, as, any, man, would, .]</td>\n",
       "      <td>[Close, as, any, man, would]</td>\n",
       "      <td>5</td>\n",
       "    </tr>\n",
       "    <tr>\n",
       "      <th>4</th>\n",
       "      <td>2011-04-17</td>\n",
       "      <td>Season 1</td>\n",
       "      <td>Episode 1</td>\n",
       "      <td>Winter is Coming</td>\n",
       "      <td>gared</td>\n",
       "      <td>We should head back to the wall.</td>\n",
       "      <td>[We, should, head, back, to, the, wall, .]</td>\n",
       "      <td>[We, should, head, back, to, the, wall]</td>\n",
       "      <td>7</td>\n",
       "    </tr>\n",
       "  </tbody>\n",
       "</table>\n",
       "</div>"
      ],
      "text/plain": [
       "  Release Date    Season    Episode     Episode Title          Name  \\\n",
       "0   2011-04-17  Season 1  Episode 1  Winter is Coming  waymar royce   \n",
       "1   2011-04-17  Season 1  Episode 1  Winter is Coming          will   \n",
       "2   2011-04-17  Season 1  Episode 1  Winter is Coming  waymar royce   \n",
       "3   2011-04-17  Season 1  Episode 1  Winter is Coming          will   \n",
       "4   2011-04-17  Season 1  Episode 1  Winter is Coming         gared   \n",
       "\n",
       "                                            Sentence  \\\n",
       "0  What do you expect? They're savages. One lot s...   \n",
       "1  I've never seen wildlings do a thing like this...   \n",
       "2                             How close did you get?   \n",
       "3                            Close as any man would.   \n",
       "4                   We should head back to the wall.   \n",
       "\n",
       "                                      Tokenize Words  \\\n",
       "0  [What, do, you, expect, ?, They, 're, savages,...   \n",
       "1  [I, 've, never, seen, wildlings, do, a, thing,...   \n",
       "2                     [How, close, did, you, get, ?]   \n",
       "3                    [Close, as, any, man, would, .]   \n",
       "4         [We, should, head, back, to, the, wall, .]   \n",
       "\n",
       "                    Tokenize Words Alphanumeric Only  Sentence Word Count  \n",
       "0  [What, do, you, expect, They, savages, One, lo...                   25  \n",
       "1  [I, never, seen, wildlings, do, a, thing, like...                   21  \n",
       "2                        [How, close, did, you, get]                    5  \n",
       "3                       [Close, as, any, man, would]                    5  \n",
       "4            [We, should, head, back, to, the, wall]                    7  "
      ]
     },
     "execution_count": 107,
     "metadata": {},
     "output_type": "execute_result"
    }
   ],
   "source": [
    "script['Sentence Word Count'] = script['Tokenize Words Alphanumeric Only'].dropna().apply(len)\n",
    "script.head()"
   ]
  },
  {
   "cell_type": "code",
   "execution_count": 108,
   "metadata": {},
   "outputs": [
    {
     "data": {
      "text/plain": [
       "['Solarize_Light2',\n",
       " '_classic_test_patch',\n",
       " '_mpl-gallery',\n",
       " '_mpl-gallery-nogrid',\n",
       " 'bmh',\n",
       " 'classic',\n",
       " 'dark_background',\n",
       " 'fast',\n",
       " 'fivethirtyeight',\n",
       " 'ggplot',\n",
       " 'grayscale',\n",
       " 'seaborn-v0_8',\n",
       " 'seaborn-v0_8-bright',\n",
       " 'seaborn-v0_8-colorblind',\n",
       " 'seaborn-v0_8-dark',\n",
       " 'seaborn-v0_8-dark-palette',\n",
       " 'seaborn-v0_8-darkgrid',\n",
       " 'seaborn-v0_8-deep',\n",
       " 'seaborn-v0_8-muted',\n",
       " 'seaborn-v0_8-notebook',\n",
       " 'seaborn-v0_8-paper',\n",
       " 'seaborn-v0_8-pastel',\n",
       " 'seaborn-v0_8-poster',\n",
       " 'seaborn-v0_8-talk',\n",
       " 'seaborn-v0_8-ticks',\n",
       " 'seaborn-v0_8-white',\n",
       " 'seaborn-v0_8-whitegrid',\n",
       " 'tableau-colorblind10']"
      ]
     },
     "execution_count": 108,
     "metadata": {},
     "output_type": "execute_result"
    }
   ],
   "source": [
    "plt.style.available"
   ]
  },
  {
   "cell_type": "code",
   "execution_count": 109,
   "metadata": {},
   "outputs": [
    {
     "data": {
      "text/plain": [
       "array(['waymar royce', 'will', 'gared', 'royce', 'jon snow',\n",
       "       'septa mordane', 'sansa stark', 'eddard stark', 'robb stark',\n",
       "       'jonrobb', 'cassel', 'catelyn stark', 'bran stark',\n",
       "       'theon greyjoy', 'jaime lannister', 'cersei lannister',\n",
       "       'maester luwin', 'luwin', 'arya stark', 'robert baratheon',\n",
       "       'tyrion lannister', 'ros', 'viserys', 'daenerys targaryen', 'maid',\n",
       "       'illyrio', 'benjen', 'a voice', 'jorah mormont', 'khal drogo',\n",
       "       'sandor clegane', 'doreah', 'irri', 'viserys targaryen',\n",
       "       'joffrey lannister', 'myrcella baratheon', 'benjen stark',\n",
       "       'assassin', 'jhiqui', 'rodrick cassel', 'mycah', 'soldier',\n",
       "       'jory cassel', 'kings landing guard', 'varys', 'renly baratheon',\n",
       "       'petyr baelish', 'grand maester pycelle', 'old nan', 'guard',\n",
       "       'alliser thorne', 'jeor mormont', 'grenn', 'pyp', 'rast',\n",
       "       'barristan selmy', 'lancel lannister', 'rakharo', 'yoren',\n",
       "       'rhakaro', 'maester aemon', 'syrio forel', 'sam tarly',\n",
       "       'janos slynt', 'hugh of vale', 'tobho mott', 'gendry baratheon',\n",
       "       'marillion', 'masha heddle', 'bronn', 'knight of house whent',\n",
       "       'knight of house bracken', 'loras tyrell', 'rodrik cassel',\n",
       "       'illyrio mopatis', 'vardis egen', 'steward', 'lysa arryn',\n",
       "       'robin arryn', 'mord', 'mhaegen', 'osha', 'wildling', 'knight',\n",
       "       'ser vardis', 'barriston', 'man', 'beric dondarrion', 'mordane',\n",
       "       'tywin lannister', 'night watch stable boy', 'lord varys',\n",
       "       'deanerys targarian', 'little bird', 'wine merchant',\n",
       "       'jaremy rykker', 'othell yarwyck', 'pypar', 'tell me something',\n",
       "       'tomard', 'king joffrey', 'steward of house stark', 'meryn trant',\n",
       "       'maryn trant', 'kings guard', 'stable boy', 'ser alliser',\n",
       "       'nights watch brother', 'shagga', 'kevan lannister', 'messenger',\n",
       "       'rodrik cassal', 'greatjon umber', 'stark guard',\n",
       "       'lannister scout', 'kings landing page', 'everyone', 'walder frey',\n",
       "       'stevron frey', 'ryger rivers', 'voices outside',\n",
       "       'unidentified nights watchers', 'nights watcher', 'all', 'cohollo',\n",
       "       'qotho', 'prostitute', 'shae', 'mirri maz duur',\n",
       "       'lannister soldier', 'tribesmen of vale', 'stark bannermen',\n",
       "       'kings landing baker', 'street urchin', 'populace', 'eddark stark',\n",
       "       'rickon stark', 'several stark bannermen', 'jonos bracken',\n",
       "       'galbart glover', 'rickard karstark', 'leo lefford',\n",
       "       'addam marbrand', 'sam pyp and grenn', 'hot pie',\n",
       "       'lommy greenhands', 'announcer', 'ser dontos', 'myrcella',\n",
       "       'pycelle', 'janos', 'lord', 'portan', 'sam', 'edd', 'lord mormont',\n",
       "       'craster', 'watchman', 'gilly', 'melisandre', 'group', 'cressen',\n",
       "       'davos', 'crowd', 'stannis baratheon', 'matthos', 'alton',\n",
       "       'ser rodrik', 'others at table', 'roz', 'daisy', 'mhaegan',\n",
       "       'gold cloak', 'blacksmith', 'cold', 'end', 'title', 'jaqen hghar',\n",
       "       'rorge', 'woman', 'podrick', 'lommy', 'yara greyjoy', 'balon',\n",
       "       'all three', 'saan', 'jeor', 'hodor', 'margaery tyrell', 'loras',\n",
       "       'renly', 'brienne', 'colen', 'gerard', 'tommen lannister',\n",
       "       'priest', 'drowned priest', 'timett', 'rennick', 'men',\n",
       "       'roose bolton', 'wounded soldier', 'talisa', 'lancel', 'meryn',\n",
       "       'kovarro', 'mountain', 'tickler', 'prisoner', 'spice king',\n",
       "       'spice', 'xaro', 'polliver', 'girl', 'protester', 'black lorren',\n",
       "       'dagmer', 'reginald', 'amory', 'dolorous edd', 'dolorous',\n",
       "       'haylene', 'pyatt pree', 'quaithe', 'winterfell shepherd',\n",
       "       'rodrik', 'qhorin', 'farlen', 'ironborn', 'rickon', 'armory',\n",
       "       'ygritte', 'septon', 'cuard', 'quent', 'roose', 'ahsa', 'rikon',\n",
       "       'mountian', 'child', 'handmaiden', 'quaith', 'silk king',\n",
       "       'pyat pree', 'pyattpree', 'jacks', 'rickard', 'mar',\n",
       "       'lord of bones', 'rider', 'kevan', 'quorin', 'eddision',\n",
       "       'male singer', 'drogo', 'rattleshirt', 'main', 'boy', 'tormund',\n",
       "       'mance', 'whore', 'salladhor', 'qyburn', 'missandei',\n",
       "       'kraznys mo nakloz', 'unsullied', 'barristan', 'jojen', 'torturer',\n",
       "       'tailor', 'olenna tyrell', 'servant', 'orell', 'meera', 'thoros',\n",
       "       'anguy', 'ramsay bolton', 'locke', 'edmure', 'brynden', 'driver',\n",
       "       'martyn', 'karl tanner', 'kraznys', 'greizhen', 'marei', 'beric',\n",
       "       'willem', 'selyse', 'shireen', 'grey worm', 'olyvar',\n",
       "       'black walder', 'lothar', 'radzal mo eraz', 'myranda', 'violet',\n",
       "       'steelshanks walton', 'daario', 'mero', 'prendahl', 'walder',\n",
       "       'merry', 'pig farmer', 'old man', 'roslin', 'edmure roslin',\n",
       "       'blackfish', 'everybody', 'frey guard', 'frey man', 'frey men',\n",
       "       'frey soldier', 'daughter', 'dornish lord', 'oberyn martell',\n",
       "       'ellaria', 'morgan', 'morgans friend', 'warg', 'styr', 'officer',\n",
       "       'janos slunt', 'innkeeper', 'tansy', 'walda', 'mace',\n",
       "       'axell florent', 'threeeyed raven', 'musician', 'renly dwarf',\n",
       "       'robb dwarf', 'joffrey dwarf', 'balon dwarf', 'stannis dwarf',\n",
       "       'farmer hamlet', 'ranger', 'moles town whore', 'moles town madam',\n",
       "       'olly', 'guymon', 'ollys mother', 'yarwyck', 'alliser thorn',\n",
       "       'mossador', 'elder meereen slave', 'meereen slave', 'slaves',\n",
       "       'tanner', 'women', 'sissy', 'robin', 'lysa', 'karl',\n",
       "       'doloroud edd', 'dolrous edd', 'morag', 'tycho', 'sallador',\n",
       "       'lhara', 'first mate', 'bolton guard', 'manservant', 'hizdahr',\n",
       "       'pyelle', 'dying man', 'alliser', 'yarwick', 'ed', 'ralf', 'petyr',\n",
       "       'lord royce', 'lady anya', 'ser vance', 'ser barristan',\n",
       "       'ser jorah', 'lord bolton', 'together', 'pycell', 'aemon',\n",
       "       'thenn warg', 'nights watch', 'member', 'donnel', 'cooper',\n",
       "       'all together', 'fennesz', 'captain', 'melara', 'maggy',\n",
       "       'white rat', 'master of arms', 'yohn royce', 'squire',\n",
       "       'grand maester pyrcelle', 'daario naharis', 'hizdahr zo loraq',\n",
       "       'braavosi man', 'waitress', 'lollys stokeworth', 'lollys',\n",
       "       'trystane', 'areo', 'doran', 'hunters', 'mace tyrell',\n",
       "       'shadow tower brother', 'brother', 'brothers', 'harpy', 'mosador',\n",
       "       'bystanders', 'waif', 'sparrow', 'priestess', 'blonde prostitute',\n",
       "       'black haired prostitute', 'merchant', 'militant', 'client',\n",
       "       'kingsguard', 'tyene', 'elaria', 'obara', 'nymeria', 'allister',\n",
       "       'malko', 'slaver', 'sand snakes', 'derryk', 'sammy', 'slave buyer',\n",
       "       'buyer', 'buer', 'slave owner', 'owner', 'septa', 'thin man',\n",
       "       'bolton bannerman', 'master', 'karsi', 'loboda', 'wildling elder',\n",
       "       'giant', 'wun wun', 'shouting', 'banker', 'brothel keeper',\n",
       "       'head prostitute', 'head', 'quick', 'strong', 'survivor', 'voice',\n",
       "       'nights watchman', 'male voice', 'nights watchmen',\n",
       "       'maester wolkan', 'bolton officer', 'septa unella', 'maester',\n",
       "       'listeners', 'red priest', 'bloodrider', 'wife', 'khal moro',\n",
       "       'young rodrik', 'young ned', 'young benjen', 'young lyanna',\n",
       "       'young hodor', nan, 'child of forest', 'storyteller',\n",
       "       'kings soldier', 'lord karstark', 'lady walda', 'hooded figure',\n",
       "       'euron greyjoy', 'aeron', 'arthur', 'dothraki woman',\n",
       "       'dothraki matron', 'vala', 'maester pycelle', 'lady olenna',\n",
       "       'smalljon', 'bowen marsh', 'othell yarwick', 'alliser throne',\n",
       "       'yezzan', 'razdal', 'belicho', 'dothraki', 'leader',\n",
       "       'lhazareen woman', 'maester pycell', 'kevin', 'khal', 'izembaro',\n",
       "       'clarenzo', 'ladyc rane', 'camello', 'bobono', 'lady crane',\n",
       "       'bianca', 'leaf', 'aerson', 'kinvara', 'melessa', 'talla',\n",
       "       'dickon', 'randyll', 'ray', 'sandor', 'dim dalba', 'lyanna',\n",
       "       'robett', 'lem', 'gatins', 'young man', 'red priestess', 'bryndel',\n",
       "       'guard captain', 'karstark', 'attendant', 'mistress',\n",
       "       'vale knight', 'manderly', 'glover', 'waldery frey', 'yohn',\n",
       "       'ned alys', 'wolkan', 'marwyn', 'little sam', 'ellia',\n",
       "       'robett glover', 'lyanna mormont', 'drogon', 'archers',\n",
       "       'archmaester', 'harrag', 'john royce', 'rhaegar', 'brans voice',\n",
       "       'umber', 'harry', 'dirah', 'crayah', 'dothraki man', 'both',\n",
       "       'teela', 'lyann', 'northman', 'martha', 'father', 'nora', 'vicky',\n",
       "       'owen', 'riverlands lord', 'dornish prince', 'ironborn lord',\n",
       "       'vale lord', 'unsullied captain'], dtype=object)"
      ]
     },
     "execution_count": 109,
     "metadata": {},
     "output_type": "execute_result"
    }
   ],
   "source": [
    "script['Name'].unique()"
   ]
  },
  {
   "cell_type": "code",
   "execution_count": 110,
   "metadata": {},
   "outputs": [
    {
     "data": {
      "image/png": "[encoded data removed]",
      "text/plain": [
       "<Figure size 2400x900 with 1 Axes>"
      ]
     },
     "metadata": {},
     "output_type": "display_data"
    }
   ],
   "source": [
    "import pandas as pd\n",
    "import matplotlib\n",
    "import matplotlib.pyplot as plt\n",
    "import matplotlib.ticker as ticker\n",
    "import matplotlib.animation as animation\n",
    "from IPython.display import HTML\n",
    "import warnings\n",
    "\n",
    "matplotlib.rcParams['animation.embed_limit'] = 2**128\n",
    "\n",
    "script['Row'] = script.index\n",
    "\n",
    "max_row = script['Row'].max()\n",
    "\n",
    "# colors to seperate familys from each other\n",
    "\n",
    "family_names = ['lannister','targaryen','snow','stark','baelish','greyjoy','mormont','baratheon','tyrell','clegane','other']\n",
    "\n",
    "color_selections = ['#84142d','#3282b8','#3282b8','#241663','#834c69','#00454a','#57886c','#602080','#291f1e','#f64740','#a3333d']\n",
    "\n",
    "def get_family_name(x):\n",
    "    x = str(x)\n",
    "    name_split = x.split(' ')\n",
    "    if len(name_split) > 1 and name_split[1] in family_names[:-1]:\n",
    "        return name_split[1]\n",
    "    else:\n",
    "        return family_names[-1]\n",
    "\n",
    "script['Family Name'] = script['Name'].apply(get_family_name)# create dictionary for family color\n",
    "\n",
    "colors = dict(zip(\n",
    "    family_names,\n",
    "    color_selections\n",
    "    ))\n",
    "\n",
    "family_group = script.set_index('Name')['Family Name'].to_dict()# functions to generate chart\n",
    "\n",
    "def draw_chart(offset):\n",
    "    plt.style.use('fivethirtyeight')\n",
    "    temp_script = script.iloc[:offset]\n",
    "    dff = temp_script.groupby(['Name'])[['Season','Sentence Word Count']].agg({'Season':'max','Sentence Word Count':'sum'}).reset_index().sort_values(by=['Sentence Word Count'], ascending=[0]).head(10)\n",
    "    season = dff['Season'].max()\n",
    "    episode = temp_script[temp_script['Season'] == season]['Episode'].max()\n",
    "    ax.clear()\n",
    "    names = dff['Name'].values\n",
    "    word_count = dff['Sentence Word Count'].values\n",
    "    y_pos = np.arange(len(names))\n",
    "    ax.barh(y_pos, word_count, color=[colors[family_group[name]] for name in names])\n",
    "    ax.set_yticks(y_pos)\n",
    "    ax.invert_yaxis()  # labels read top-to-bottom\n",
    "    dx = dff['Sentence Word Count'].max() / 400# iterate over the values to plot labels and values\n",
    "    for i, (value, name) in enumerate(zip(dff['Sentence Word Count'], dff['Name'])):\n",
    "        if family_group[name] != 'other':\n",
    "            ax.text(value-dx, i, name.split(' ')[0], size=15, weight=800, ha='right', va='bottom')\n",
    "            ax.text(value-dx, i+.25, family_group[name], size=12, color='#cccaca', ha='right', va='baseline')\n",
    "        else:\n",
    "            ax.text(value-dx, i, name, size=15, weight=700, ha='right', va='bottom')\n",
    "            ax.text(value-dx, i+.25, '', size=12, color='#cccaca', ha='right', va='baseline')\n",
    "        ax.text(value+dx, i, f'{value:,.0f}',  size=15, ha='left',  va='center', weight=200, color='#777777')# styling chart\n",
    "    ax.text(1, 0.2, \"Season \" + season.split(\" \")[1], transform=ax.transAxes, color='#cccaca', size=46, ha='right', weight=600)\n",
    "    ax.text(1, 0.1, \"Episode \"+ episode.split(\" \")[1], transform=ax.transAxes, color='#cccaca', size=30, ha='right', weight=600)\n",
    "    ax.text(0, 1.06, 'Word Count', transform=ax.transAxes, size=14, color='#cccaca')\n",
    "    ax.xaxis.set_major_formatter(ticker.StrMethodFormatter('{x:,.0f}'))\n",
    "    ax.xaxis.set_ticks_position('top')\n",
    "    ax.tick_params(axis='x', colors='#777777', labelsize=11)\n",
    "    ax.set_yticks([])\n",
    "    ax.margins(0.08, 0.02)\n",
    "    ax.grid(which='both', axis='x', linestyle=':', linewidth=0.5, c='grey')\n",
    "    ax.set_axisbelow(True)\n",
    "    ax.text(0, 1.15, '-', transform=ax.transAxes, size=22, weight=600, ha='left', color='w')\n",
    "   # ax.text(0, 1.12, 'Words spoken per character', transform=ax.transAxes, size=24, weight=600, ha='left')\n",
    "    #ax.text(1, 0, '@albenft', size=12, transform=ax.transAxes, ha='left', color='#777777', bbox=dict(facecolor='white', alpha=0.8, edgecolor='white'))\n",
    "    plt.box(False)# create new fig, and generate animation using animator\n",
    "    warnings.filterwarnings('ignore')\n",
    "    \n",
    "fig, ax = plt.subplots(figsize=(24, 9))\n",
    "wordcountani = animation.FuncAnimation(fig, draw_chart, frames=range(100, max_row, 55))"
   ]
  },
  {
   "cell_type": "code",
   "execution_count": 111,
   "metadata": {},
   "outputs": [
    {
     "data": {
      "image/png": "[encoded data removed]",
      "text/plain": [
       "<Figure size 640x480 with 1 Axes>"
      ]
     },
     "metadata": {},
     "output_type": "display_data"
    }
   ],
   "source": [
    "#wordcountani = animation.FuncAnimation(fig, draw_chart, frames=range(100, max_row, 30))\n",
    "HTML(wordcountani.to_jshtml())\n",
    "\n",
    "# Set up formatting for the movie files\n",
    "Writer = animation.writers['ffmpeg']\n",
    "writer = Writer(fps=15, metadata=dict(artist='Max'), bitrate=1800)\n",
    "\n",
    "wordcountani.save('wordcountani_white2.mp4', writer=writer)"
   ]
  },
  {
   "cell_type": "code",
   "execution_count": 112,
   "metadata": {},
   "outputs": [
    {
     "data": {
      "text/html": [
       "<div>\n",
       "<style scoped>\n",
       "    .dataframe tbody tr th:only-of-type {\n",
       "        vertical-align: middle;\n",
       "    }\n",
       "\n",
       "    .dataframe tbody tr th {\n",
       "        vertical-align: top;\n",
       "    }\n",
       "\n",
       "    .dataframe thead th {\n",
       "        text-align: right;\n",
       "    }\n",
       "</style>\n",
       "<table border=\"1\" class=\"dataframe\">\n",
       "  <thead>\n",
       "    <tr style=\"text-align: right;\">\n",
       "      <th></th>\n",
       "      <th>Release Date</th>\n",
       "      <th>Season</th>\n",
       "      <th>Episode</th>\n",
       "      <th>Episode Title</th>\n",
       "      <th>Name</th>\n",
       "      <th>Sentence</th>\n",
       "      <th>Tokenize Words</th>\n",
       "      <th>Tokenize Words Alphanumeric Only</th>\n",
       "      <th>Sentence Word Count</th>\n",
       "      <th>Row</th>\n",
       "      <th>Family Name</th>\n",
       "    </tr>\n",
       "  </thead>\n",
       "  <tbody>\n",
       "    <tr>\n",
       "      <th>0</th>\n",
       "      <td>2011-04-17</td>\n",
       "      <td>Season 1</td>\n",
       "      <td>Episode 1</td>\n",
       "      <td>Winter is Coming</td>\n",
       "      <td>waymar royce</td>\n",
       "      <td>What do you expect? They're savages. One lot s...</td>\n",
       "      <td>[What, do, you, expect, ?, They, 're, savages,...</td>\n",
       "      <td>[What, do, you, expect, They, savages, One, lo...</td>\n",
       "      <td>25</td>\n",
       "      <td>0</td>\n",
       "      <td>other</td>\n",
       "    </tr>\n",
       "    <tr>\n",
       "      <th>1</th>\n",
       "      <td>2011-04-17</td>\n",
       "      <td>Season 1</td>\n",
       "      <td>Episode 1</td>\n",
       "      <td>Winter is Coming</td>\n",
       "      <td>will</td>\n",
       "      <td>I've never seen wildlings do a thing like this...</td>\n",
       "      <td>[I, 've, never, seen, wildlings, do, a, thing,...</td>\n",
       "      <td>[I, never, seen, wildlings, do, a, thing, like...</td>\n",
       "      <td>21</td>\n",
       "      <td>1</td>\n",
       "      <td>other</td>\n",
       "    </tr>\n",
       "    <tr>\n",
       "      <th>2</th>\n",
       "      <td>2011-04-17</td>\n",
       "      <td>Season 1</td>\n",
       "      <td>Episode 1</td>\n",
       "      <td>Winter is Coming</td>\n",
       "      <td>waymar royce</td>\n",
       "      <td>How close did you get?</td>\n",
       "      <td>[How, close, did, you, get, ?]</td>\n",
       "      <td>[How, close, did, you, get]</td>\n",
       "      <td>5</td>\n",
       "      <td>2</td>\n",
       "      <td>other</td>\n",
       "    </tr>\n",
       "    <tr>\n",
       "      <th>3</th>\n",
       "      <td>2011-04-17</td>\n",
       "      <td>Season 1</td>\n",
       "      <td>Episode 1</td>\n",
       "      <td>Winter is Coming</td>\n",
       "      <td>will</td>\n",
       "      <td>Close as any man would.</td>\n",
       "      <td>[Close, as, any, man, would, .]</td>\n",
       "      <td>[Close, as, any, man, would]</td>\n",
       "      <td>5</td>\n",
       "      <td>3</td>\n",
       "      <td>other</td>\n",
       "    </tr>\n",
       "    <tr>\n",
       "      <th>4</th>\n",
       "      <td>2011-04-17</td>\n",
       "      <td>Season 1</td>\n",
       "      <td>Episode 1</td>\n",
       "      <td>Winter is Coming</td>\n",
       "      <td>gared</td>\n",
       "      <td>We should head back to the wall.</td>\n",
       "      <td>[We, should, head, back, to, the, wall, .]</td>\n",
       "      <td>[We, should, head, back, to, the, wall]</td>\n",
       "      <td>7</td>\n",
       "      <td>4</td>\n",
       "      <td>other</td>\n",
       "    </tr>\n",
       "  </tbody>\n",
       "</table>\n",
       "</div>"
      ],
      "text/plain": [
       "  Release Date    Season    Episode     Episode Title          Name  \\\n",
       "0   2011-04-17  Season 1  Episode 1  Winter is Coming  waymar royce   \n",
       "1   2011-04-17  Season 1  Episode 1  Winter is Coming          will   \n",
       "2   2011-04-17  Season 1  Episode 1  Winter is Coming  waymar royce   \n",
       "3   2011-04-17  Season 1  Episode 1  Winter is Coming          will   \n",
       "4   2011-04-17  Season 1  Episode 1  Winter is Coming         gared   \n",
       "\n",
       "                                            Sentence  \\\n",
       "0  What do you expect? They're savages. One lot s...   \n",
       "1  I've never seen wildlings do a thing like this...   \n",
       "2                             How close did you get?   \n",
       "3                            Close as any man would.   \n",
       "4                   We should head back to the wall.   \n",
       "\n",
       "                                      Tokenize Words  \\\n",
       "0  [What, do, you, expect, ?, They, 're, savages,...   \n",
       "1  [I, 've, never, seen, wildlings, do, a, thing,...   \n",
       "2                     [How, close, did, you, get, ?]   \n",
       "3                    [Close, as, any, man, would, .]   \n",
       "4         [We, should, head, back, to, the, wall, .]   \n",
       "\n",
       "                    Tokenize Words Alphanumeric Only  Sentence Word Count  \\\n",
       "0  [What, do, you, expect, They, savages, One, lo...                   25   \n",
       "1  [I, never, seen, wildlings, do, a, thing, like...                   21   \n",
       "2                        [How, close, did, you, get]                    5   \n",
       "3                       [Close, as, any, man, would]                    5   \n",
       "4            [We, should, head, back, to, the, wall]                    7   \n",
       "\n",
       "   Row Family Name  \n",
       "0    0       other  \n",
       "1    1       other  \n",
       "2    2       other  \n",
       "3    3       other  \n",
       "4    4       other  "
      ]
     },
     "execution_count": 112,
     "metadata": {},
     "output_type": "execute_result"
    }
   ],
   "source": [
    "script.head()"
   ]
  },
  {
   "cell_type": "code",
   "execution_count": 113,
   "metadata": {},
   "outputs": [
    {
     "data": {
      "text/html": [
       "<div>\n",
       "<style scoped>\n",
       "    .dataframe tbody tr th:only-of-type {\n",
       "        vertical-align: middle;\n",
       "    }\n",
       "\n",
       "    .dataframe tbody tr th {\n",
       "        vertical-align: top;\n",
       "    }\n",
       "\n",
       "    .dataframe thead th {\n",
       "        text-align: right;\n",
       "    }\n",
       "</style>\n",
       "<table border=\"1\" class=\"dataframe\">\n",
       "  <thead>\n",
       "    <tr style=\"text-align: right;\">\n",
       "      <th></th>\n",
       "      <th>Family Name</th>\n",
       "      <th>Season</th>\n",
       "      <th>Sentence Word Count</th>\n",
       "    </tr>\n",
       "  </thead>\n",
       "  <tbody>\n",
       "    <tr>\n",
       "      <th>6</th>\n",
       "      <td>other</td>\n",
       "      <td>Season 8</td>\n",
       "      <td>132686</td>\n",
       "    </tr>\n",
       "    <tr>\n",
       "      <th>4</th>\n",
       "      <td>lannister</td>\n",
       "      <td>Season 8</td>\n",
       "      <td>61936</td>\n",
       "    </tr>\n",
       "    <tr>\n",
       "      <th>8</th>\n",
       "      <td>stark</td>\n",
       "      <td>Season 8</td>\n",
       "      <td>28264</td>\n",
       "    </tr>\n",
       "    <tr>\n",
       "      <th>9</th>\n",
       "      <td>targaryen</td>\n",
       "      <td>Season 8</td>\n",
       "      <td>13108</td>\n",
       "    </tr>\n",
       "    <tr>\n",
       "      <th>7</th>\n",
       "      <td>snow</td>\n",
       "      <td>Season 8</td>\n",
       "      <td>12251</td>\n",
       "    </tr>\n",
       "  </tbody>\n",
       "</table>\n",
       "</div>"
      ],
      "text/plain": [
       "  Family Name    Season  Sentence Word Count\n",
       "6       other  Season 8               132686\n",
       "4   lannister  Season 8                61936\n",
       "8       stark  Season 8                28264\n",
       "9   targaryen  Season 8                13108\n",
       "7        snow  Season 8                12251"
      ]
     },
     "execution_count": 113,
     "metadata": {},
     "output_type": "execute_result"
    }
   ],
   "source": [
    "dff2 = script.groupby(['Family Name'])['Season','Sentence Word Count'].agg({'Season':'max','Sentence Word Count':'sum'}).reset_index().sort_values(by=['Sentence Word Count'], ascending=[0]).head(10)\n",
    "dff2.head()"
   ]
  },
  {
   "cell_type": "code",
   "execution_count": 114,
   "metadata": {},
   "outputs": [
    {
     "data": {
      "text/plain": [
       "{'lannister': '#84142d',\n",
       " 'targaryen': '#3282b8',\n",
       " 'snow': '#3282b8',\n",
       " 'stark': '#241663',\n",
       " 'baelish': '#834c69',\n",
       " 'greyjoy': '#00454a',\n",
       " 'mormont': '#57886c',\n",
       " 'baratheon': '#602080',\n",
       " 'tyrell': '#291f1e',\n",
       " 'clegane': '#f64740',\n",
       " 'other': '#a3333d'}"
      ]
     },
     "execution_count": 114,
     "metadata": {},
     "output_type": "execute_result"
    }
   ],
   "source": [
    "colors"
   ]
  },
  {
   "cell_type": "code",
   "execution_count": 115,
   "metadata": {},
   "outputs": [],
   "source": [
    "script_small = script"
   ]
  },
  {
   "cell_type": "code",
   "execution_count": 116,
   "metadata": {},
   "outputs": [
    {
     "name": "stdout",
     "output_type": "stream",
     "text": [
      "<class 'pandas.core.frame.DataFrame'>\n",
      "RangeIndex: 23911 entries, 0 to 23910\n",
      "Data columns (total 11 columns):\n",
      " #   Column                            Non-Null Count  Dtype \n",
      "---  ------                            --------------  ----- \n",
      " 0   Release Date                      23911 non-null  object\n",
      " 1   Season                            23911 non-null  object\n",
      " 2   Episode                           23911 non-null  object\n",
      " 3   Episode Title                     23911 non-null  object\n",
      " 4   Name                              23908 non-null  object\n",
      " 5   Sentence                          23911 non-null  object\n",
      " 6   Tokenize Words                    23911 non-null  object\n",
      " 7   Tokenize Words Alphanumeric Only  23911 non-null  object\n",
      " 8   Sentence Word Count               23911 non-null  int64 \n",
      " 9   Row                               23911 non-null  int64 \n",
      " 10  Family Name                       23911 non-null  object\n",
      "dtypes: int64(2), object(9)\n",
      "memory usage: 2.0+ MB\n"
     ]
    }
   ],
   "source": [
    "script_small.info()"
   ]
  },
  {
   "cell_type": "code",
   "execution_count": 117,
   "metadata": {},
   "outputs": [
    {
     "data": {
      "text/plain": [
       "array(['other', 'other', 'other', ..., 'lannister', 'other', 'other'],\n",
       "      dtype=object)"
      ]
     },
     "execution_count": 117,
     "metadata": {},
     "output_type": "execute_result"
    }
   ],
   "source": [
    "script['Family Name'].values"
   ]
  },
  {
   "cell_type": "code",
   "execution_count": 118,
   "metadata": {},
   "outputs": [
    {
     "data": {
      "image/png": "[encoded data removed]",
      "text/plain": [
       "<Figure size 1600x900 with 1 Axes>"
      ]
     },
     "metadata": {},
     "output_type": "display_data"
    }
   ],
   "source": [
    "def draw_chart(offset):\n",
    "    plt.style.use('fivethirtyeight')\n",
    "    script_small_noo = script_small[script_small[\"Family Name\"] != \"other\"]\n",
    "    temp_script = script_small_noo.iloc[:offset]\n",
    "    dff = temp_script.groupby(['Family Name'])['Season','Sentence Word Count'].agg({'Season':'max','Sentence Word Count':'sum'}).reset_index().sort_values(by=['Sentence Word Count'], ascending=[0]).head(10)\n",
    "    season = dff['Season'].max()\n",
    "    episode = temp_script[temp_script['Season'] == season]['Episode'].max()\n",
    "    ax.clear()\n",
    "    names = dff['Family Name'].values\n",
    "    word_count = dff['Sentence Word Count'].values\n",
    "    y_pos = np.arange(len(names))\n",
    "    ax.barh(y_pos, word_count, color=[colors[name] for name in names])\n",
    "    ax.set_yticks(y_pos)\n",
    "    ax.invert_yaxis()  # labels read top-to-bottom\n",
    "    dx = dff['Sentence Word Count'].max() / 400# iterate over the values to plot labels and values\n",
    "    for i, (value, name) in enumerate(zip(dff['Sentence Word Count'], dff['Family Name'])):\n",
    "        if str(name) != 'other':\n",
    "            ax.text(value-dx, i, name.split(' ')[0], size=15, weight=800, ha='right', va='bottom')\n",
    "            #ax.text(value-dx, i+.25, str(name), size=12, color='#cccaca', ha='right', va='baseline')\n",
    "        else:\n",
    "            ax.text(value-dx, i, name, size=15, weight=700, ha='right', va='bottom')\n",
    "            #ax.text(value-dx, i+.25, '', size=12, color='#cccaca', ha='right', va='baseline')\n",
    "        ax.text(value+dx, i, f'{value:,.0f}',  size=15, ha='left',  va='center', weight=200, color='#777777')# styling chart\n",
    "    ax.text(1, 0.2, \"Season \" + season.split(\" \")[1], transform=ax.transAxes, color='#cccaca', size=46, ha='right', weight=600)\n",
    "    ax.text(1, 0.1, \"Episode \"+ episode.split(\" \")[1], transform=ax.transAxes, color='#cccaca', size=30, ha='right', weight=600)\n",
    "    ax.text(0, 1.06, 'Word Count', transform=ax.transAxes, size=14, color='#cccaca')\n",
    "    ax.xaxis.set_major_formatter(ticker.StrMethodFormatter('{x:,.0f}'))\n",
    "    ax.xaxis.set_ticks_position('top')\n",
    "    ax.tick_params(axis='x', colors='#777777', labelsize=11)\n",
    "    ax.set_yticks([])\n",
    "    ax.margins(0.08, 0.01)\n",
    "    ax.grid(which='both', axis='x', linestyle=':', linewidth=0.5, c='grey')\n",
    "    ax.set_axisbelow(True)\n",
    "    ax.text(0, 1.15, '-', transform=ax.transAxes, size=24, weight=600, ha='left', color='w')\n",
    "    #ax.text(0, 1.12, 'Which family does the talking?', transform=ax.transAxes, size=24, weight=600, ha='left')\n",
    "    #ax.text(1, 0, '@albenft', size=12, transform=ax.transAxes, ha='left', color='#777777', bbox=dict(facecolor='white', alpha=0.8, edgecolor='white'))\n",
    "    plt.box(False)# create new fig, and generate animation using animator\n",
    "    \n",
    "fig, ax = plt.subplots(figsize=(16, 9))\n",
    "wordcountfamily = animation.FuncAnimation(fig, draw_chart, frames=range(100, max_row, 30))\n",
    "# animator = animation.FuncAnimation(fig, draw_chart, frames=range(100, max_row, 30))\n",
    "HTML(wordcountfamily.to_jshtml())\n",
    "\n",
    "# Set up formatting for the movie files\n",
    "Writer = animation.writers['ffmpeg']\n",
    "writer = Writer(fps=15, metadata=dict(artist='Max'), bitrate=1800)\n",
    "\n",
    "wordcountfamily.save('wordcountanifamily.mp4', writer=writer)"
   ]
  },
  {
   "cell_type": "code",
   "execution_count": 119,
   "metadata": {},
   "outputs": [
    {
     "name": "stdout",
     "output_type": "stream",
     "text": [
      "Requirement already satisfied: wordcloud in /usr/local/lib/python3.11/site-packages (1.9.1.1)\n",
      "Requirement already satisfied: numpy>=1.6.1 in /usr/local/lib/python3.11/site-packages (from wordcloud) (1.24.3)\n",
      "Requirement already satisfied: pillow in /usr/local/lib/python3.11/site-packages (from wordcloud) (9.5.0)\n",
      "Requirement already satisfied: matplotlib in /usr/local/lib/python3.11/site-packages (from wordcloud) (3.7.1)\n",
      "Requirement already satisfied: contourpy>=1.0.1 in /usr/local/lib/python3.11/site-packages (from matplotlib->wordcloud) (1.0.7)\n",
      "Requirement already satisfied: cycler>=0.10 in /usr/local/lib/python3.11/site-packages (from matplotlib->wordcloud) (0.11.0)\n",
      "Requirement already satisfied: fonttools>=4.22.0 in /usr/local/lib/python3.11/site-packages (from matplotlib->wordcloud) (4.39.3)\n",
      "Requirement already satisfied: kiwisolver>=1.0.1 in /usr/local/lib/python3.11/site-packages (from matplotlib->wordcloud) (1.4.4)\n",
      "Requirement already satisfied: packaging>=20.0 in /usr/local/lib/python3.11/site-packages (from matplotlib->wordcloud) (23.1)\n",
      "Requirement already satisfied: pyparsing>=2.3.1 in /usr/local/lib/python3.11/site-packages (from matplotlib->wordcloud) (3.0.9)\n",
      "Requirement already satisfied: python-dateutil>=2.7 in /usr/local/lib/python3.11/site-packages (from matplotlib->wordcloud) (2.8.2)\n",
      "Requirement already satisfied: six>=1.5 in /usr/local/lib/python3.11/site-packages (from python-dateutil>=2.7->matplotlib->wordcloud) (1.16.0)\n"
     ]
    }
   ],
   "source": [
    "!pip install wordcloud"
   ]
  },
  {
   "cell_type": "code",
   "execution_count": 120,
   "metadata": {},
   "outputs": [],
   "source": [
    "import sklearn"
   ]
  },
  {
   "cell_type": "code",
   "execution_count": 121,
   "metadata": {},
   "outputs": [],
   "source": [
    "from wordcloud import WordCloud, STOPWORDS, ImageColorGenerator\n",
    "import nltk\n",
    "from os import path\n",
    "import random\n",
    "import os\n",
    "from PIL import Image\n",
    "from sklearn.feature_extraction._stop_words import ENGLISH_STOP_WORDS# get list of top 20 characters\n",
    "top_20 = script.groupby(['Name'])['Sentence Word Count'].sum().reset_index().sort_values(by=['Sentence Word Count']\n",
    "                                                                                         , ascending=[0]).head(20)['Name'].tolist()# create my own set of stopwords\n",
    "my_stop_words = ENGLISH_STOP_WORDS.union(['did','does','ca','don','wo','men','man','ll',\n",
    "                                          'want','oh','yes','doing','going','like','ser',\n",
    "                                          'eh','thing','aye','ve','just'])# function to generate and show the wordclouds\n",
    "\n",
    "\n",
    "def generate_word_cloud(character):\n",
    "    character_name = character\n",
    "    list_words = script[script['Name'] == character_name]\n",
    "    list_words = list_words['Tokenize Words Alphanumeric Only'].tolist()\n",
    "    words = []\n",
    "    \n",
    "    d = path.dirname(__file__) if \"__file__\" in locals() else os.getcwd()\n",
    "    \n",
    "    char_mask = np.array(Image.open(path.join(d, character_name.split(\" \")[0] + \".jpg\")))\n",
    "    \n",
    "    for i in list_words:\n",
    "        words.extend(i)\n",
    "    words = ''.join(i.lower() + ' ' for i in words)\n",
    "    \n",
    "    wc = WordCloud(background_color=\"white\", max_words=10000, mask=char_mask,\n",
    "               stopwords=my_stop_words, max_font_size=40, collocations=False)\n",
    "    # generate word cloud\n",
    "    wc.generate(words)\n",
    "    \n",
    "    image_colors = ImageColorGenerator(char_mask)\n",
    "\n",
    "    # show\n",
    "    fig, axes = plt.subplots(1, 2)\n",
    "    axes[0].imshow(wc.recolor(color_func=image_colors), interpolation=\"bilinear\")\n",
    "    axes[0].imshow(char_mask, alpha=0.5, cmap=plt.cm.gray, interpolation=\"bilinear\")\n",
    "    #plt.title(character_name)\n",
    "    #wc.to_file(character_name.split(\" \")[0] + \"_wc.png\")\n",
    "    for ax in axes:\n",
    "        ax.set_axis_off()\n",
    "    plt.savefig(character_name.split(\" \")[0] + \"_wc.png\")\n",
    "    plt.show()"
   ]
  },
  {
   "cell_type": "code",
   "execution_count": 122,
   "metadata": {},
   "outputs": [
    {
     "ename": "FileNotFoundError",
     "evalue": "[Errno 2] No such file or directory: '/Users/mdargatz/TechStuff/GoT-Mining/tyrion.jpg'",
     "output_type": "error",
     "traceback": [
      "\u001b[0;31m---------------------------------------------------------------------------\u001b[0m",
      "\u001b[0;31mFileNotFoundError\u001b[0m                         Traceback (most recent call last)",
      "Cell \u001b[0;32mIn[122], line 4\u001b[0m\n\u001b[1;32m      1\u001b[0m top_5 \u001b[38;5;241m=\u001b[39m [\u001b[38;5;124m\"\u001b[39m\u001b[38;5;124mtyrion lannister\u001b[39m\u001b[38;5;124m\"\u001b[39m, \u001b[38;5;124m\"\u001b[39m\u001b[38;5;124mcersei lannister\u001b[39m\u001b[38;5;124m\"\u001b[39m, \u001b[38;5;124m\"\u001b[39m\u001b[38;5;124mdaenerys targaryen\u001b[39m\u001b[38;5;124m\"\u001b[39m, \u001b[38;5;124m\"\u001b[39m\u001b[38;5;124mjon snow\u001b[39m\u001b[38;5;124m\"\u001b[39m, \u001b[38;5;124m\"\u001b[39m\u001b[38;5;124mjaime lannister\u001b[39m\u001b[38;5;124m\"\u001b[39m]\n\u001b[1;32m      3\u001b[0m \u001b[38;5;28;01mfor\u001b[39;00m name \u001b[38;5;129;01min\u001b[39;00m top_5:\n\u001b[0;32m----> 4\u001b[0m     \u001b[43mgenerate_word_cloud\u001b[49m\u001b[43m(\u001b[49m\u001b[43mname\u001b[49m\u001b[43m)\u001b[49m\n",
      "Cell \u001b[0;32mIn[121], line 23\u001b[0m, in \u001b[0;36mgenerate_word_cloud\u001b[0;34m(character)\u001b[0m\n\u001b[1;32m     19\u001b[0m words \u001b[38;5;241m=\u001b[39m []\n\u001b[1;32m     21\u001b[0m d \u001b[38;5;241m=\u001b[39m path\u001b[38;5;241m.\u001b[39mdirname(\u001b[38;5;18m__file__\u001b[39m) \u001b[38;5;28;01mif\u001b[39;00m \u001b[38;5;124m\"\u001b[39m\u001b[38;5;124m__file__\u001b[39m\u001b[38;5;124m\"\u001b[39m \u001b[38;5;129;01min\u001b[39;00m \u001b[38;5;28mlocals\u001b[39m() \u001b[38;5;28;01melse\u001b[39;00m os\u001b[38;5;241m.\u001b[39mgetcwd()\n\u001b[0;32m---> 23\u001b[0m char_mask \u001b[38;5;241m=\u001b[39m np\u001b[38;5;241m.\u001b[39marray(\u001b[43mImage\u001b[49m\u001b[38;5;241;43m.\u001b[39;49m\u001b[43mopen\u001b[49m\u001b[43m(\u001b[49m\u001b[43mpath\u001b[49m\u001b[38;5;241;43m.\u001b[39;49m\u001b[43mjoin\u001b[49m\u001b[43m(\u001b[49m\u001b[43md\u001b[49m\u001b[43m,\u001b[49m\u001b[43m \u001b[49m\u001b[43mcharacter_name\u001b[49m\u001b[38;5;241;43m.\u001b[39;49m\u001b[43msplit\u001b[49m\u001b[43m(\u001b[49m\u001b[38;5;124;43m\"\u001b[39;49m\u001b[38;5;124;43m \u001b[39;49m\u001b[38;5;124;43m\"\u001b[39;49m\u001b[43m)\u001b[49m\u001b[43m[\u001b[49m\u001b[38;5;241;43m0\u001b[39;49m\u001b[43m]\u001b[49m\u001b[43m \u001b[49m\u001b[38;5;241;43m+\u001b[39;49m\u001b[43m \u001b[49m\u001b[38;5;124;43m\"\u001b[39;49m\u001b[38;5;124;43m.jpg\u001b[39;49m\u001b[38;5;124;43m\"\u001b[39;49m\u001b[43m)\u001b[49m\u001b[43m)\u001b[49m)\n\u001b[1;32m     25\u001b[0m \u001b[38;5;28;01mfor\u001b[39;00m i \u001b[38;5;129;01min\u001b[39;00m list_words:\n\u001b[1;32m     26\u001b[0m     words\u001b[38;5;241m.\u001b[39mextend(i)\n",
      "File \u001b[0;32m/usr/local/lib/python3.11/site-packages/PIL/Image.py:3236\u001b[0m, in \u001b[0;36mopen\u001b[0;34m(fp, mode, formats)\u001b[0m\n\u001b[1;32m   3233\u001b[0m     filename \u001b[38;5;241m=\u001b[39m fp\n\u001b[1;32m   3235\u001b[0m \u001b[38;5;28;01mif\u001b[39;00m filename:\n\u001b[0;32m-> 3236\u001b[0m     fp \u001b[38;5;241m=\u001b[39m \u001b[43mbuiltins\u001b[49m\u001b[38;5;241;43m.\u001b[39;49m\u001b[43mopen\u001b[49m\u001b[43m(\u001b[49m\u001b[43mfilename\u001b[49m\u001b[43m,\u001b[49m\u001b[43m \u001b[49m\u001b[38;5;124;43m\"\u001b[39;49m\u001b[38;5;124;43mrb\u001b[39;49m\u001b[38;5;124;43m\"\u001b[39;49m\u001b[43m)\u001b[49m\n\u001b[1;32m   3237\u001b[0m     exclusive_fp \u001b[38;5;241m=\u001b[39m \u001b[38;5;28;01mTrue\u001b[39;00m\n\u001b[1;32m   3239\u001b[0m \u001b[38;5;28;01mtry\u001b[39;00m:\n",
      "\u001b[0;31mFileNotFoundError\u001b[0m: [Errno 2] No such file or directory: '/Users/mdargatz/TechStuff/GoT-Mining/tyrion.jpg'"
     ]
    }
   ],
   "source": [
    "top_5 = [\"tyrion lannister\", \"cersei lannister\", \"daenerys targaryen\", \"jon snow\", \"jaime lannister\"]\n",
    "\n",
    "for name in top_5:\n",
    "    generate_word_cloud(name)"
   ]
  },
  {
   "cell_type": "code",
   "execution_count": null,
   "metadata": {},
   "outputs": [],
   "source": [
    "!pip install textblob\n",
    "!pip install seaborn"
   ]
  },
  {
   "cell_type": "code",
   "execution_count": null,
   "metadata": {},
   "outputs": [],
   "source": [
    "from textblob import TextBlob\n",
    "import matplotlib.pyplot as plt\n",
    "import seaborn as sns\n",
    "script['Sentiment Scores'] = script['Sentence'].apply(lambda x: TextBlob(x).sentiment)\n",
    "script['Polarity'] = script['Sentiment Scores'].apply(lambda x: x[0])\n",
    "script['Subjectivity'] = script['Sentiment Scores'].apply(lambda x: x[1])"
   ]
  },
  {
   "cell_type": "code",
   "execution_count": null,
   "metadata": {},
   "outputs": [],
   "source": [
    "script.to_csv('Game_of_Thrones_Script_count_senti.csv', encoding='utf-8', index=False)"
   ]
  },
  {
   "cell_type": "code",
   "execution_count": null,
   "metadata": {},
   "outputs": [],
   "source": [
    "script.head()"
   ]
  },
  {
   "cell_type": "code",
   "execution_count": null,
   "metadata": {},
   "outputs": [],
   "source": [
    "fig, ax = plt.subplots(figsize=(25,11))\n",
    "ax.tick_params(axis='x', labelsize=16, color='#777777')\n",
    "ax.tick_params(axis='y', labelsize=16, color='#777777')\n",
    "sns.boxenplot(x='Name', y='Polarity', data=script[script['Name'].isin(top_20[:10])])\n",
    "plt.show()\n",
    "\n",
    "fig, ax = plt.subplots(figsize=(25,11))\n",
    "ax.tick_params(axis='x', labelsize=16, color='#777777')\n",
    "ax.tick_params(axis='y', labelsize=16, color='#777777')\n",
    "sns.boxenplot(x='Name', y='Polarity', data=script[script['Name'].isin(top_20[10:])])\n",
    "plt.show()"
   ]
  },
  {
   "cell_type": "code",
   "execution_count": null,
   "metadata": {},
   "outputs": [],
   "source": [
    "script['Positive Polarity'] = script['Polarity'].apply(lambda x: 1 if x >= 0.5 else 0)\n",
    "script['Negative Polarity'] = script['Polarity'].apply(lambda x: 1 if x <= -0.5 else 0)\n",
    "script['Neutral Polarity'] = script['Polarity'].apply(lambda x: 1 if x > -0.5 and x < 0.5 else 0)# count each polarity labels\n",
    "char_polarities = script.groupby(['Name'])['Positive Polarity','Negative Polarity','Neutral Polarity'].sum().reset_index()# get proportion of each label\n",
    "char_polarities['Positive Polarity Rate'] = char_polarities['Positive Polarity'] / (char_polarities['Positive Polarity'] + char_polarities['Negative Polarity'] + char_polarities['Neutral Polarity'])\n",
    "char_polarities['Negative Polarity Rate'] = char_polarities['Negative Polarity'] / (char_polarities['Positive Polarity'] + char_polarities['Negative Polarity'] + char_polarities['Neutral Polarity'])\n",
    "top_5_positive = char_polarities[char_polarities['Name'].isin(top_20)].sort_values(by=['Positive Polarity Rate'], ascending=[0]).head(5)\n",
    "top_5_negative = char_polarities[char_polarities['Name'].isin(top_20)].sort_values(by=['Negative Polarity Rate'], ascending=[0]).head(5)"
   ]
  },
  {
   "cell_type": "code",
   "execution_count": null,
   "metadata": {},
   "outputs": [],
   "source": [
    "char_polarities[char_polarities[\"Name\"].isin(top_20)].head(20).sort_values(by=['Positive Polarity Rate'], ascending=[0])"
   ]
  },
  {
   "cell_type": "code",
   "execution_count": null,
   "metadata": {},
   "outputs": [],
   "source": [
    "char_polarities[char_polarities[\"Name\"].isin(top_20)].head(20).sort_values(by=['Positive Polarity Rate'], ascending=True)"
   ]
  },
  {
   "cell_type": "code",
   "execution_count": null,
   "metadata": {},
   "outputs": [],
   "source": []
  }
 ],
 "metadata": {
  "kernelspec": {
   "display_name": "Python 3 (ipykernel)",
   "language": "python",
   "name": "python3"
  },
  "language_info": {
   "codemirror_mode": {
    "name": "ipython",
    "version": 3
   },
   "file_extension": ".py",
   "mimetype": "text/x-python",
   "name": "python",
   "nbconvert_exporter": "python",
   "pygments_lexer": "ipython3",
   "version": "3.11.2"
  }
 },
 "nbformat": 4,
 "nbformat_minor": 4
}
